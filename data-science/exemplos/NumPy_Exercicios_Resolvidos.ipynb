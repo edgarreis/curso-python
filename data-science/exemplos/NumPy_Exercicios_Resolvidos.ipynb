{
  "nbformat": 4,
  "nbformat_minor": 0,
  "metadata": {
    "colab": {
      "name": "NumPy_Exercicios.ipynb",
      "provenance": [],
      "collapsed_sections": []
    },
    "kernelspec": {
      "display_name": "Python 3",
      "language": "python",
      "name": "python3"
    },
    "language_info": {
      "codemirror_mode": {
        "name": "ipython",
        "version": 3
      },
      "file_extension": ".py",
      "mimetype": "text/x-python",
      "name": "python",
      "nbconvert_exporter": "python",
      "pygments_lexer": "ipython3",
      "version": "3.7.5"
    }
  },
  "cells": [
    {
      "cell_type": "markdown",
      "metadata": {
        "colab_type": "text",
        "id": "uEQt0B6pNvug"
      },
      "source": [
        "  1) Importar o pacote numpy"
      ]
    },
    {
      "cell_type": "code",
      "metadata": {
        "id": "Gnp3Y0GeFtAm",
        "colab_type": "code",
        "colab": {}
      },
      "source": [
        "import numpy as np"
      ],
      "execution_count": 0,
      "outputs": []
    },
    {
      "cell_type": "markdown",
      "metadata": {
        "colab_type": "text",
        "id": "Qh38I2aaN1Bm"
      },
      "source": [
        "2) Imprimir a versão numpy"
      ]
    },
    {
      "cell_type": "code",
      "metadata": {
        "colab_type": "code",
        "id": "41ClgMmL0B19",
        "colab": {
          "base_uri": "https://localhost:8080/",
          "height": 34
        },
        "outputId": "6cc6e14a-932f-43a5-e65b-05e5f3f2b0c7"
      },
      "source": [
        "print(np.__version__)"
      ],
      "execution_count": 3,
      "outputs": [
        {
          "output_type": "stream",
          "text": [
            "1.17.5\n"
          ],
          "name": "stdout"
        }
      ]
    },
    {
      "cell_type": "markdown",
      "metadata": {
        "colab_type": "text",
        "id": "CV_z4EOSN5J7"
      },
      "source": [
        "3) Criar um vetor 1D de tamanho 10 e uma matriz 2D 2x2 com os \n",
        "valores null (0)"
      ]
    },
    {
      "cell_type": "code",
      "metadata": {
        "colab_type": "code",
        "id": "zzg5lgnB0MeC",
        "colab": {
          "base_uri": "https://localhost:8080/",
          "height": 67
        },
        "outputId": "6d1100f0-d0c3-49a9-ed9d-6142b9d048c6"
      },
      "source": [
        "z = np.zeros(10)\n",
        "print(z)\n",
        "z= np.zeros((2,2))\n",
        "z"
      ],
      "execution_count": 8,
      "outputs": [
        {
          "output_type": "stream",
          "text": [
            "[0. 0. 0. 0. 0. 0. 0. 0. 0. 0.]\n"
          ],
          "name": "stdout"
        },
        {
          "output_type": "execute_result",
          "data": {
            "text/plain": [
              "array([[0., 0.],\n",
              "       [0., 0.]])"
            ]
          },
          "metadata": {
            "tags": []
          },
          "execution_count": 8
        }
      ]
    },
    {
      "cell_type": "markdown",
      "metadata": {
        "colab_type": "text",
        "id": "t4hYUk0GVGwY"
      },
      "source": [
        "4) Criar um vetor 1D de tamanho 10 com os valores null (0) mas o 5º valor deve ser 1"
      ]
    },
    {
      "cell_type": "code",
      "metadata": {
        "colab_type": "code",
        "id": "mdk0vJIB1_sN",
        "colab": {
          "base_uri": "https://localhost:8080/",
          "height": 34
        },
        "outputId": "ef4d390d-a19a-4fa0-c077-ff067584e1a0"
      },
      "source": [
        "z = np.zeros(10)\n",
        "z[4] = 1\n",
        "z"
      ],
      "execution_count": 11,
      "outputs": [
        {
          "output_type": "execute_result",
          "data": {
            "text/plain": [
              "array([0., 0., 0., 0., 1., 0., 0., 0., 0., 0.])"
            ]
          },
          "metadata": {
            "tags": []
          },
          "execution_count": 11
        }
      ]
    },
    {
      "cell_type": "markdown",
      "metadata": {
        "colab_type": "text",
        "id": "ArRzxNs1VMNs"
      },
      "source": [
        "5) Criar um vetor com valores entre 10 e 20"
      ]
    },
    {
      "cell_type": "code",
      "metadata": {
        "colab_type": "code",
        "id": "rimIMo_C2UOt",
        "colab": {
          "base_uri": "https://localhost:8080/",
          "height": 34
        },
        "outputId": "f58b6ee2-405d-4896-e43f-4d3d38c40919"
      },
      "source": [
        "x = np.arange(10,20, 0.5)\n",
        "x = np.linspace(10,20,5)\n",
        "x"
      ],
      "execution_count": 25,
      "outputs": [
        {
          "output_type": "execute_result",
          "data": {
            "text/plain": [
              "array([10. , 12.5, 15. , 17.5, 20. ])"
            ]
          },
          "metadata": {
            "tags": []
          },
          "execution_count": 25
        }
      ]
    },
    {
      "cell_type": "markdown",
      "metadata": {
        "colab_type": "text",
        "id": "r8u_Zh8uVOqz"
      },
      "source": [
        "6) Inverter um vetor"
      ]
    },
    {
      "cell_type": "code",
      "metadata": {
        "colab_type": "code",
        "id": "qu_PJbZR4lYn",
        "colab": {
          "base_uri": "https://localhost:8080/",
          "height": 50
        },
        "outputId": "86d98b98-2416-476c-bf55-a818b2a1aa4b"
      },
      "source": [
        "x = np.arange(20)\n",
        "print(x)\n",
        "print(x[::-1])"
      ],
      "execution_count": 27,
      "outputs": [
        {
          "output_type": "stream",
          "text": [
            "[ 0  1  2  3  4  5  6  7  8  9 10 11 12 13 14 15 16 17 18 19]\n",
            "[19 18 17 16 15 14 13 12 11 10  9  8  7  6  5  4  3  2  1  0]\n"
          ],
          "name": "stdout"
        }
      ]
    },
    {
      "cell_type": "markdown",
      "metadata": {
        "colab_type": "text",
        "id": "eqk50SZGVQkj"
      },
      "source": [
        "7) Especificar o tipo de dado de um vetor"
      ]
    },
    {
      "cell_type": "code",
      "metadata": {
        "colab_type": "code",
        "id": "sRhtyrSg48Xj",
        "colab": {
          "base_uri": "https://localhost:8080/",
          "height": 34
        },
        "outputId": "e0cd85e0-6820-4928-e2e0-d5cedfa5519a"
      },
      "source": [
        "z=np.zeros(10, dtype=np.int64)\n",
        "z"
      ],
      "execution_count": 34,
      "outputs": [
        {
          "output_type": "execute_result",
          "data": {
            "text/plain": [
              "array([0, 0, 0, 0, 0, 0, 0, 0, 0, 0])"
            ]
          },
          "metadata": {
            "tags": []
          },
          "execution_count": 34
        }
      ]
    },
    {
      "cell_type": "markdown",
      "metadata": {
        "colab_type": "text",
        "id": "yZaf5aQBVTIK"
      },
      "source": [
        "8) Criar uma matriz 3x3 com valores de 0 a 8"
      ]
    },
    {
      "cell_type": "code",
      "metadata": {
        "colab_type": "code",
        "id": "SSchCv-S5Q1u",
        "colab": {
          "base_uri": "https://localhost:8080/",
          "height": 67
        },
        "outputId": "ed586858-65a8-4b33-b8d3-22924135ea1b"
      },
      "source": [
        "x= np.arange(9).reshape(3,3)\n",
        "x"
      ],
      "execution_count": 45,
      "outputs": [
        {
          "output_type": "execute_result",
          "data": {
            "text/plain": [
              "array([[0, 1, 2],\n",
              "       [3, 4, 5],\n",
              "       [6, 7, 8]])"
            ]
          },
          "metadata": {
            "tags": []
          },
          "execution_count": 45
        }
      ]
    },
    {
      "cell_type": "markdown",
      "metadata": {
        "colab_type": "text",
        "id": "MEEVoggxVUnK"
      },
      "source": [
        "9) Encontrar os índices dos elementos que não são 0 no vetor [1,2,0,0,4,0]"
      ]
    },
    {
      "cell_type": "code",
      "metadata": {
        "colab_type": "code",
        "id": "x1wUj-7m6bpU",
        "colab": {
          "base_uri": "https://localhost:8080/",
          "height": 34
        },
        "outputId": "24a6f45a-f41e-47c7-e93f-2bde156a71ae"
      },
      "source": [
        "x = [1,2,0,0,4,0]\n",
        "z = np.nonzero(x)[0].tolist()\n",
        "z"
      ],
      "execution_count": 47,
      "outputs": [
        {
          "output_type": "execute_result",
          "data": {
            "text/plain": [
              "(array([0, 0, 1, 1, 1, 2, 2, 2]), array([1, 2, 0, 1, 2, 0, 1, 2]))"
            ]
          },
          "metadata": {
            "tags": []
          },
          "execution_count": 47
        }
      ]
    },
    {
      "cell_type": "markdown",
      "metadata": {
        "colab_type": "text",
        "id": "vmx71XefVaMJ"
      },
      "source": [
        "10) Criar uma matriz identidade 3x3"
      ]
    },
    {
      "cell_type": "code",
      "metadata": {
        "colab_type": "code",
        "id": "u2p160mS7kvQ",
        "colab": {
          "base_uri": "https://localhost:8080/",
          "height": 67
        },
        "outputId": "966574c2-ad2d-4c32-a37a-53b4e538957a"
      },
      "source": [
        "z = np.eye(3)\n",
        "z"
      ],
      "execution_count": 49,
      "outputs": [
        {
          "output_type": "execute_result",
          "data": {
            "text/plain": [
              "array([[1., 0., 0.],\n",
              "       [0., 1., 0.],\n",
              "       [0., 0., 1.]])"
            ]
          },
          "metadata": {
            "tags": []
          },
          "execution_count": 49
        }
      ]
    },
    {
      "cell_type": "markdown",
      "metadata": {
        "colab_type": "text",
        "id": "3aO7MI2eVceP"
      },
      "source": [
        "11) Criar uma matriz 3x3x3 com valores aleatórios"
      ]
    },
    {
      "cell_type": "code",
      "metadata": {
        "colab_type": "code",
        "id": "hh8eKRv_7yR8",
        "colab": {
          "base_uri": "https://localhost:8080/",
          "height": 202
        },
        "outputId": "6fa8b71e-92ce-4bf4-9591-3950af736e39"
      },
      "source": [
        "x = np.random.random((3,3,3))\n",
        "x"
      ],
      "execution_count": 53,
      "outputs": [
        {
          "output_type": "execute_result",
          "data": {
            "text/plain": [
              "array([[[0.20048099, 0.81628205, 0.14279929],\n",
              "        [0.89528169, 0.87798237, 0.11162297],\n",
              "        [0.54838773, 0.53321286, 0.24298203]],\n",
              "\n",
              "       [[0.57265949, 0.83877333, 0.5455918 ],\n",
              "        [0.10469876, 0.27841654, 0.03848341],\n",
              "        [0.04681838, 0.06435907, 0.59035759]],\n",
              "\n",
              "       [[0.63067971, 0.84414852, 0.81445704],\n",
              "        [0.76580115, 0.79812598, 0.53655365],\n",
              "        [0.84603701, 0.74571071, 0.21112851]]])"
            ]
          },
          "metadata": {
            "tags": []
          },
          "execution_count": 53
        }
      ]
    },
    {
      "cell_type": "markdown",
      "metadata": {
        "colab_type": "text",
        "id": "_RqtdAj5Vd5Q"
      },
      "source": [
        "12) Criar uma matriz 5x5 com valores aleatórios em encontrar os valores máximo, mínimo e médio"
      ]
    },
    {
      "cell_type": "code",
      "metadata": {
        "colab_type": "code",
        "id": "0PX4Oebh9mUT",
        "colab": {
          "base_uri": "https://localhost:8080/",
          "height": 151
        },
        "outputId": "c54f0caa-f96b-4cc5-8cbc-ddea968e4144"
      },
      "source": [
        "x = (np.random.random((5,5))*10).astype(int)\n",
        "print(x)\n",
        "print('Valor min',x.min())\n",
        "print('Valor Máx',x.max())\n",
        "print('Valor Médio',x.mean())"
      ],
      "execution_count": 67,
      "outputs": [
        {
          "output_type": "stream",
          "text": [
            "[[2 9 0 9 0]\n",
            " [1 2 4 5 7]\n",
            " [3 2 1 0 0]\n",
            " [4 9 2 4 2]\n",
            " [9 1 2 2 2]]\n",
            "Valor min 0\n",
            "Valor Máx 9\n",
            "Valor Médio 3.28\n"
          ],
          "name": "stdout"
        }
      ]
    },
    {
      "cell_type": "markdown",
      "metadata": {
        "colab_type": "text",
        "id": "Ko2EApb8Vf0w"
      },
      "source": [
        "13) Criar uma matriz 5x5 de 1s e preencher as bordas com 0"
      ]
    },
    {
      "cell_type": "code",
      "metadata": {
        "colab_type": "code",
        "id": "Leimojfy-cA2",
        "colab": {
          "base_uri": "https://localhost:8080/",
          "height": 218
        },
        "outputId": "546573c6-5750-496f-cb0b-75d048807c20"
      },
      "source": [
        "y=np.ones((5,5))\n",
        "print(y)\n",
        "y=np.pad(y, pad_width=1, mode='constant', constant_values=0)\n",
        "print(y)\n"
      ],
      "execution_count": 72,
      "outputs": [
        {
          "output_type": "stream",
          "text": [
            "[[1. 1. 1. 1. 1.]\n",
            " [1. 1. 1. 1. 1.]\n",
            " [1. 1. 1. 1. 1.]\n",
            " [1. 1. 1. 1. 1.]\n",
            " [1. 1. 1. 1. 1.]]\n",
            "[[0. 0. 0. 0. 0. 0. 0.]\n",
            " [0. 1. 1. 1. 1. 1. 0.]\n",
            " [0. 1. 1. 1. 1. 1. 0.]\n",
            " [0. 1. 1. 1. 1. 1. 0.]\n",
            " [0. 1. 1. 1. 1. 1. 0.]\n",
            " [0. 1. 1. 1. 1. 1. 0.]\n",
            " [0. 0. 0. 0. 0. 0. 0.]]\n"
          ],
          "name": "stdout"
        }
      ]
    },
    {
      "cell_type": "markdown",
      "metadata": {
        "colab_type": "text",
        "id": "EFyk8fGfViAf"
      },
      "source": [
        "14) Dada a matriz abaixo"
      ]
    },
    {
      "cell_type": "code",
      "metadata": {
        "colab_type": "code",
        "id": "ydGQREZU_3RQ",
        "colab": {
          "base_uri": "https://localhost:8080/",
          "height": 67
        },
        "outputId": "6d3eaf18-e61a-4983-a518-5f8e6b72f305"
      },
      "source": [
        "a =np.array([[1,2,3],[4,5,6],[7,8,9]])\n",
        "a = np.arange(1,10).reshape(3,3)\n",
        "a"
      ],
      "execution_count": 75,
      "outputs": [
        {
          "output_type": "execute_result",
          "data": {
            "text/plain": [
              "array([[1, 2, 3],\n",
              "       [4, 5, 6],\n",
              "       [7, 8, 9]])"
            ]
          },
          "metadata": {
            "tags": []
          },
          "execution_count": 75
        }
      ]
    },
    {
      "cell_type": "markdown",
      "metadata": {
        "colab_type": "text",
        "id": "oixXbBwvVkSI"
      },
      "source": [
        "14.1) Imprimir os elementos da segunda coluna"
      ]
    },
    {
      "cell_type": "code",
      "metadata": {
        "colab_type": "code",
        "id": "KCU19sfNADMw",
        "colab": {
          "base_uri": "https://localhost:8080/",
          "height": 34
        },
        "outputId": "ec08c102-c2a3-4a16-ead3-c6c34d134091"
      },
      "source": [
        "a[:,1]"
      ],
      "execution_count": 76,
      "outputs": [
        {
          "output_type": "execute_result",
          "data": {
            "text/plain": [
              "array([2, 5, 8])"
            ]
          },
          "metadata": {
            "tags": []
          },
          "execution_count": 76
        }
      ]
    },
    {
      "cell_type": "markdown",
      "metadata": {
        "colab_type": "text",
        "id": "wT6jLxmRVmFC"
      },
      "source": [
        "14.2) Imprimir os elementos da 2ª linha"
      ]
    },
    {
      "cell_type": "code",
      "metadata": {
        "colab_type": "code",
        "id": "CDbOpwxVASyd",
        "colab": {
          "base_uri": "https://localhost:8080/",
          "height": 34
        },
        "outputId": "6e2fa8f3-b107-47cb-fa5a-9be7eeeb8ef3"
      },
      "source": [
        "a[1,:]"
      ],
      "execution_count": 77,
      "outputs": [
        {
          "output_type": "execute_result",
          "data": {
            "text/plain": [
              "array([4, 5, 6])"
            ]
          },
          "metadata": {
            "tags": []
          },
          "execution_count": 77
        }
      ]
    },
    {
      "cell_type": "markdown",
      "metadata": {
        "colab_type": "text",
        "id": "Nk0qfWxaVnnS"
      },
      "source": [
        "14.3) Mostrar os elementos a partir da 2ª linha e 2ª coluna"
      ]
    },
    {
      "cell_type": "code",
      "metadata": {
        "colab_type": "code",
        "id": "-tj6o50rAWlt",
        "colab": {
          "base_uri": "https://localhost:8080/",
          "height": 50
        },
        "outputId": "17eda9a4-4d9c-4bf4-d5e6-2ea0aaf4ccab"
      },
      "source": [
        "a[1:,1:]"
      ],
      "execution_count": 81,
      "outputs": [
        {
          "output_type": "execute_result",
          "data": {
            "text/plain": [
              "array([[5, 6],\n",
              "       [8, 9]])"
            ]
          },
          "metadata": {
            "tags": []
          },
          "execution_count": 81
        }
      ]
    },
    {
      "cell_type": "markdown",
      "metadata": {
        "colab_type": "text",
        "id": "6Aex-SsNVpgg"
      },
      "source": [
        "15) Multiplicação e adição"
      ]
    },
    {
      "cell_type": "code",
      "metadata": {
        "colab_type": "code",
        "id": "sqZg3h-LAi_g",
        "colab": {
          "base_uri": "https://localhost:8080/",
          "height": 34
        },
        "outputId": "2641a1ce-559e-410d-d396-d1b488f01b3b"
      },
      "source": [
        "a = np.array([1,2,3,4])\n",
        "b = np.array([10,20,30,40])\n",
        "a*b"
      ],
      "execution_count": 82,
      "outputs": [
        {
          "output_type": "execute_result",
          "data": {
            "text/plain": [
              "array([ 10,  40,  90, 160])"
            ]
          },
          "metadata": {
            "tags": []
          },
          "execution_count": 82
        }
      ]
    },
    {
      "cell_type": "code",
      "metadata": {
        "colab_type": "code",
        "id": "52nkWVR3Bb3v",
        "colab": {
          "base_uri": "https://localhost:8080/",
          "height": 168
        },
        "outputId": "8968c00b-774a-497a-bdaa-c76756f3f614"
      },
      "source": [
        "a = np.array([[0,0,0],[10,10,10],[30,30,30]])\n",
        "print(a)\n",
        "b= np.array([[1],[2],[3]])\n",
        "print(b)\n",
        "a+b"
      ],
      "execution_count": 89,
      "outputs": [
        {
          "output_type": "stream",
          "text": [
            "[[ 0  0  0]\n",
            " [10 10 10]\n",
            " [30 30 30]]\n",
            "[[1]\n",
            " [2]\n",
            " [3]]\n"
          ],
          "name": "stdout"
        },
        {
          "output_type": "execute_result",
          "data": {
            "text/plain": [
              "array([[ 1,  1,  1],\n",
              "       [12, 12, 12],\n",
              "       [33, 33, 33]])"
            ]
          },
          "metadata": {
            "tags": []
          },
          "execution_count": 89
        }
      ]
    },
    {
      "cell_type": "markdown",
      "metadata": {
        "colab_type": "text",
        "id": "e_6tjY7BVrPo"
      },
      "source": [
        "16) Multiplicação de matrizes 5x3 e 3x2 matrix (produto de matrizes)"
      ]
    },
    {
      "cell_type": "code",
      "metadata": {
        "colab_type": "code",
        "id": "88D69OhQBqHi",
        "colab": {
          "base_uri": "https://localhost:8080/",
          "height": 118
        },
        "outputId": "ae7ef6ce-2117-4d16-d738-3c69e129e2f6"
      },
      "source": [
        "#np.dot(np.ones((5,3)),np.ones((3,2)))\n",
        "a= np.array([[1,7],[2,4]])\n",
        "print(a)\n",
        "b= np.array([[3,3],[5,2]])\n",
        "print(b)\n",
        "#np.dot(a,b)\n",
        "a@b"
      ],
      "execution_count": 97,
      "outputs": [
        {
          "output_type": "stream",
          "text": [
            "[[1 7]\n",
            " [2 4]]\n",
            "[[3 3]\n",
            " [5 2]]\n"
          ],
          "name": "stdout"
        },
        {
          "output_type": "execute_result",
          "data": {
            "text/plain": [
              "array([[38, 17],\n",
              "       [26, 14]])"
            ]
          },
          "metadata": {
            "tags": []
          },
          "execution_count": 97
        }
      ]
    },
    {
      "cell_type": "markdown",
      "metadata": {
        "colab_type": "text",
        "id": "_HUUId1AVt9Y"
      },
      "source": [
        "17) Dado um vetor 1D, tornar negativos todos os elementos entre 3 e 8 e imprimir os elementos maiores que 5"
      ]
    },
    {
      "cell_type": "code",
      "metadata": {
        "colab_type": "code",
        "id": "VCitcB5UCRst",
        "colab": {
          "base_uri": "https://localhost:8080/",
          "height": 34
        },
        "outputId": "3ddc19a7-eba4-4567-8929-9caf608d4164"
      },
      "source": [
        "z = np.arange(11)\n",
        "z[(z>3)&(z<8)]*=-1\n",
        "print(z[z>5])"
      ],
      "execution_count": 117,
      "outputs": [
        {
          "output_type": "stream",
          "text": [
            "[ 8  9 10]\n"
          ],
          "name": "stdout"
        }
      ]
    },
    {
      "cell_type": "markdown",
      "metadata": {
        "colab_type": "text",
        "id": "jNf_VAlpVwi-"
      },
      "source": [
        "18) Empilhamento vertical e horizontal"
      ]
    },
    {
      "cell_type": "code",
      "metadata": {
        "colab_type": "code",
        "id": "oM6_klV2DcPS",
        "colab": {
          "base_uri": "https://localhost:8080/",
          "height": 185
        },
        "outputId": "221d3c53-f590-46fb-88c3-38ad52b202ac"
      },
      "source": [
        "a = np.arange(1,5).reshape(2,2)\n",
        "print(a)\n",
        "b = np.arange(5,9).reshape(2,2)\n",
        "print(b)\n",
        "\n",
        "c=np.hstack((a,b))\n",
        "print(c)\n",
        "\n",
        "d=np.vstack((a,b))\n",
        "print(d)"
      ],
      "execution_count": 121,
      "outputs": [
        {
          "output_type": "stream",
          "text": [
            "[[1 2]\n",
            " [3 4]]\n",
            "[[5 6]\n",
            " [7 8]]\n",
            "[[1 2 5 6]\n",
            " [3 4 7 8]]\n",
            "[[1 2]\n",
            " [3 4]\n",
            " [5 6]\n",
            " [7 8]]\n"
          ],
          "name": "stdout"
        }
      ]
    },
    {
      "cell_type": "markdown",
      "metadata": {
        "colab_type": "text",
        "id": "tr6WEqwGVyK2"
      },
      "source": [
        "19) Obter valores mínimos, máximos, médios e amplitudes (máximo-mínimo) por eixo"
      ]
    },
    {
      "cell_type": "code",
      "metadata": {
        "colab_type": "code",
        "id": "GfZf30emErl1",
        "colab": {
          "base_uri": "https://localhost:8080/",
          "height": 84
        },
        "outputId": "0a250142-cf88-472d-b800-78e5376f791a"
      },
      "source": [
        "a =np.array([[3,7,5],[8,4,3],[2,4,9]])\n",
        "print(a)\n",
        "\n",
        "np.min(a,axis=1) #mínimo por linha\n",
        "np.min(a,axis=0) #mínimo por coluna\n",
        "\n",
        "np.max(a,axis=1) #máximo por linha\n",
        "np.max(a, axis=0) #máximo por coluna\n",
        "\n",
        "np.mean(a,axis=1) #média por linha\n",
        "np.mean(a, axis=0) #média por coluna\n",
        "\n",
        "np.ptp(a, axis=1) #amplitude por linha\n",
        "np.ptp(a, axis=0) #amplitude por coluna"
      ],
      "execution_count": 129,
      "outputs": [
        {
          "output_type": "stream",
          "text": [
            "[[3 7 5]\n",
            " [8 4 3]\n",
            " [2 4 9]]\n"
          ],
          "name": "stdout"
        },
        {
          "output_type": "execute_result",
          "data": {
            "text/plain": [
              "array([6, 3, 6])"
            ]
          },
          "metadata": {
            "tags": []
          },
          "execution_count": 129
        }
      ]
    },
    {
      "cell_type": "markdown",
      "metadata": {
        "colab_type": "text",
        "id": "WktRdpxDVz3H"
      },
      "source": [
        "20) Criar um vetor de tamanho 10 e substituir o valor máximo por 0"
      ]
    },
    {
      "cell_type": "code",
      "metadata": {
        "colab_type": "code",
        "id": "MKaMQx0lVsXX",
        "colab": {
          "base_uri": "https://localhost:8080/",
          "height": 67
        },
        "outputId": "d3f7c911-f3d6-490d-d94d-aa26c541a6a0"
      },
      "source": [
        "x = np.array([0,1,2,3,4,4])\n",
        "\n",
        "print(x)\n",
        "np.argmax(x)\n",
        "\n",
        "x[x==np.max(x)]=9\n",
        "print(x)\n",
        "\n",
        "x[np.argmax(x)]=0\n",
        "print(x)"
      ],
      "execution_count": 145,
      "outputs": [
        {
          "output_type": "stream",
          "text": [
            "[0 1 2 3 4 4]\n",
            "[0 1 2 3 9 9]\n",
            "[0 1 2 3 0 9]\n"
          ],
          "name": "stdout"
        }
      ]
    },
    {
      "cell_type": "markdown",
      "metadata": {
        "colab_type": "text",
        "id": "A9Mn46IVV1dn"
      },
      "source": [
        "21) Extrair os valores de uma matriz seguindo a indexação dos elementos"
      ]
    },
    {
      "cell_type": "code",
      "metadata": {
        "colab_type": "code",
        "id": "OZgIslsrW2et",
        "colab": {
          "base_uri": "https://localhost:8080/",
          "height": 218
        },
        "outputId": "dfa4fb5f-cfd3-4499-9bb1-e12161ac70f4"
      },
      "source": [
        "x=np.arange(9).reshape(3,3)\n",
        "print(x)\n",
        "\n",
        "for index, value in np.ndenumerate(x):\n",
        "  print(index, value)"
      ],
      "execution_count": 148,
      "outputs": [
        {
          "output_type": "stream",
          "text": [
            "[[0 1 2]\n",
            " [3 4 5]\n",
            " [6 7 8]]\n",
            "(0, 0) 0\n",
            "(0, 1) 1\n",
            "(0, 2) 2\n",
            "(1, 0) 3\n",
            "(1, 1) 4\n",
            "(1, 2) 5\n",
            "(2, 0) 6\n",
            "(2, 1) 7\n",
            "(2, 2) 8\n"
          ],
          "name": "stdout"
        }
      ]
    },
    {
      "cell_type": "markdown",
      "metadata": {
        "colab_type": "text",
        "id": "12hsqKxYV3FR"
      },
      "source": [
        "22) Subtrair a média de cada linha de uma matriz"
      ]
    },
    {
      "cell_type": "code",
      "metadata": {
        "colab_type": "code",
        "id": "edeAMcAuXpQ4",
        "colab": {
          "base_uri": "https://localhost:8080/",
          "height": 185
        },
        "outputId": "14397f97-8f42-4c9e-86d7-1ee9e6ced779"
      },
      "source": [
        "x = np.arange(9).reshape(3,3)\n",
        "print(x)\n",
        "x_med = np.mean(x, axis=1)\n",
        "print('Média da linha da Matriz',x_med)\n",
        "x_med_v= x_med.reshape(-1,1)\n",
        "print(x_med_v)\n",
        "x=x-x_med_v\n",
        "print(x)"
      ],
      "execution_count": 162,
      "outputs": [
        {
          "output_type": "stream",
          "text": [
            "[[0 1 2]\n",
            " [3 4 5]\n",
            " [6 7 8]]\n",
            "Média da linha da Matriz [1. 4. 7.]\n",
            "[[1.]\n",
            " [4.]\n",
            " [7.]]\n",
            "[[-1.  0.  1.]\n",
            " [-1.  0.  1.]\n",
            " [-1.  0.  1.]]\n"
          ],
          "name": "stdout"
        }
      ]
    },
    {
      "cell_type": "code",
      "metadata": {
        "id": "e44r89b3B2Y2",
        "colab_type": "code",
        "colab": {
          "base_uri": "https://localhost:8080/",
          "height": 118
        },
        "outputId": "df00bf38-7fb9-47dd-8a13-cd37ea113754"
      },
      "source": [
        "x = np.arange(9).reshape(3,3)\n",
        "print(x)\n",
        "y = x.mean(axis=1, keepdims=True)\n",
        "print(y)"
      ],
      "execution_count": 167,
      "outputs": [
        {
          "output_type": "stream",
          "text": [
            "[[0 1 2]\n",
            " [3 4 5]\n",
            " [6 7 8]]\n",
            "[[1.]\n",
            " [4.]\n",
            " [7.]]\n"
          ],
          "name": "stdout"
        }
      ]
    },
    {
      "cell_type": "markdown",
      "metadata": {
        "colab_type": "text",
        "id": "r0OpCdZPV6DJ"
      },
      "source": [
        "23) Trocar linhas de uma matriz"
      ]
    },
    {
      "cell_type": "code",
      "metadata": {
        "colab_type": "code",
        "id": "zsSzMJGoYzbO",
        "colab": {
          "base_uri": "https://localhost:8080/",
          "height": 319
        },
        "outputId": "e36c8562-b388-4950-ac36-bccf2fc8e1d7"
      },
      "source": [
        "x = np.arange(9).reshape(3,3)\n",
        "print('Matriz Original:\\n',x)\n",
        "x[:,[1,0]]=x[:,[0,1]] #troca de colunas\n",
        "print('Troca de colunas:\\n',x)\n",
        "print('\\n')\n",
        "x = np.arange(9).reshape(3,3)\n",
        "print('Matriz Original:\\n',x)\n",
        "x[[1,0]]=x[[0,1]] #troca de linhas\n",
        "print('Troca de linhas:\\n',x)"
      ],
      "execution_count": 183,
      "outputs": [
        {
          "output_type": "stream",
          "text": [
            "Matriz Original:\n",
            " [[0 1 2]\n",
            " [3 4 5]\n",
            " [6 7 8]]\n",
            "Troca de colunas:\n",
            " [[1 0 2]\n",
            " [4 3 5]\n",
            " [7 6 8]]\n",
            "\n",
            "\n",
            "Matriz Original:\n",
            " [[0 1 2]\n",
            " [3 4 5]\n",
            " [6 7 8]]\n",
            "Troca de linhas:\n",
            " [[3 4 5]\n",
            " [0 1 2]\n",
            " [6 7 8]]\n"
          ],
          "name": "stdout"
        }
      ]
    },
    {
      "cell_type": "markdown",
      "metadata": {
        "colab_type": "text",
        "id": "F4TA4AM0V7ka"
      },
      "source": [
        "24) Abrir e salvar dados no formato TXT e NPY"
      ]
    },
    {
      "cell_type": "code",
      "metadata": {
        "colab_type": "code",
        "id": "itRb_JjcZX3O",
        "colab": {
          "base_uri": "https://localhost:8080/",
          "height": 168
        },
        "outputId": "b03e83aa-38ac-4e71-e480-12dd1ebfe791"
      },
      "source": [
        "x = np.arange(9).reshape(3,3).astype(int)\n",
        "print(x)\n",
        "\n",
        "np.savetxt('saida.txt',x) #salva como float, independente do formato\n",
        "np.save('saida2.npy',x) #salva no formato definido\n",
        "\n",
        "b = np.loadtxt('saida.txt')\n",
        "print(b)\n",
        "c = np.load('saida2.npy')\n",
        "print(c)"
      ],
      "execution_count": 193,
      "outputs": [
        {
          "output_type": "stream",
          "text": [
            "[[0 1 2]\n",
            " [3 4 5]\n",
            " [6 7 8]]\n",
            "[[0. 1. 2.]\n",
            " [3. 4. 5.]\n",
            " [6. 7. 8.]]\n",
            "[[0 1 2]\n",
            " [3 4 5]\n",
            " [6 7 8]]\n"
          ],
          "name": "stdout"
        }
      ]
    },
    {
      "cell_type": "code",
      "metadata": {
        "id": "KylVF9yHF7sy",
        "colab_type": "code",
        "colab": {}
      },
      "source": [
        "from google.colab import files\n",
        "files.download('saida.txt')"
      ],
      "execution_count": 0,
      "outputs": []
    },
    {
      "cell_type": "code",
      "metadata": {
        "id": "JPLCCo1oGsnT",
        "colab_type": "code",
        "colab": {}
      },
      "source": [
        ""
      ],
      "execution_count": 0,
      "outputs": []
    }
  ]
}