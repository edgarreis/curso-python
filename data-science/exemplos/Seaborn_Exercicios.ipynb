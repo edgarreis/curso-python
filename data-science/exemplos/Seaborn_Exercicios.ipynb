{
  "nbformat": 4,
  "nbformat_minor": 0,
  "metadata": {
    "colab": {
      "name": "Seaborn-Ex.ipynb",
      "provenance": [],
      "collapsed_sections": []
    },
    "kernelspec": {
      "name": "python3",
      "display_name": "Python 3"
    }
  },
  "cells": [
    {
      "cell_type": "markdown",
      "metadata": {
        "id": "cBIMI9cMoWaU",
        "colab_type": "text"
      },
      "source": [
        "## **Exercícios de Introdução a visualização com Seaborn**\n",
        "\n",
        "![alt text](https://s3.amazonaws.com/assets.datacamp.com/blog_assets/Machine+Learning+R/iris-machinelearning.png)\n",
        "\n",
        "https://seaborn.pydata.org/examples/index.html"
      ]
    },
    {
      "cell_type": "markdown",
      "metadata": {
        "id": "aO5SpEQ9oq7L",
        "colab_type": "text"
      },
      "source": [
        "**1 - Importar o conjunto de dados Iris**"
      ]
    },
    {
      "cell_type": "code",
      "metadata": {
        "id": "fXeAiqB5oSjk",
        "colab_type": "code",
        "colab": {}
      },
      "source": [
        ""
      ],
      "execution_count": 0,
      "outputs": []
    },
    {
      "cell_type": "markdown",
      "metadata": {
        "id": "A-IBzeuaozIv",
        "colab_type": "text"
      },
      "source": [
        "**2 - Visualizar os dados**"
      ]
    },
    {
      "cell_type": "code",
      "metadata": {
        "id": "0XtbIw9ho7BZ",
        "colab_type": "code",
        "colab": {}
      },
      "source": [
        ""
      ],
      "execution_count": 0,
      "outputs": []
    },
    {
      "cell_type": "markdown",
      "metadata": {
        "id": "uG8RXF8apM_v",
        "colab_type": "text"
      },
      "source": [
        "**3 - Plotar os dados de Sepal_length e Sepal_Width com histograma**"
      ]
    },
    {
      "cell_type": "code",
      "metadata": {
        "id": "8nouKgOOo8rz",
        "colab_type": "code",
        "colab": {}
      },
      "source": [
        ""
      ],
      "execution_count": 0,
      "outputs": []
    },
    {
      "cell_type": "markdown",
      "metadata": {
        "id": "aeEHafCWqUdq",
        "colab_type": "text"
      },
      "source": [
        "**4 - Plotar dados Sepal_length e Sepal_Width por Species em diferentes gráficos, mas em uma mesma figura**"
      ]
    },
    {
      "cell_type": "code",
      "metadata": {
        "id": "K-VUWnjrpFi6",
        "colab_type": "code",
        "colab": {}
      },
      "source": [
        ""
      ],
      "execution_count": 0,
      "outputs": []
    },
    {
      "cell_type": "markdown",
      "metadata": {
        "id": "nV6fYoH7tNCW",
        "colab_type": "text"
      },
      "source": [
        "**5 - Avaliar a variação do Petal_Length por Species**"
      ]
    },
    {
      "cell_type": "markdown",
      "metadata": {
        "id": "s6hLcnzDt_D2",
        "colab_type": "text"
      },
      "source": [
        "![alt text](http://2.bp.blogspot.com/-C8L4Gt9rBEM/U0xPuHw0IMI/AAAAAAAAADA/zbOoO7maWm4/s1600/ABAAABPqEAI-1.jpg)"
      ]
    },
    {
      "cell_type": "code",
      "metadata": {
        "id": "u8OW2wJ-sGeY",
        "colab_type": "code",
        "colab": {}
      },
      "source": [
        ""
      ],
      "execution_count": 0,
      "outputs": []
    },
    {
      "cell_type": "markdown",
      "metadata": {
        "id": "DnP41bH5vFB6",
        "colab_type": "text"
      },
      "source": [
        "**6 - Plotar os dados de Sepal_Lenght por Species**"
      ]
    },
    {
      "cell_type": "code",
      "metadata": {
        "id": "q0oE3Pu6tKPX",
        "colab_type": "code",
        "colab": {}
      },
      "source": [
        ""
      ],
      "execution_count": 0,
      "outputs": []
    },
    {
      "cell_type": "markdown",
      "metadata": {
        "id": "CARYnd9YwJ3U",
        "colab_type": "text"
      },
      "source": [
        "**7 - Combinar ambos os gráficos: boxplot e stripplot**\n"
      ]
    },
    {
      "cell_type": "code",
      "metadata": {
        "id": "XO3XBUxmvPjH",
        "colab_type": "code",
        "colab": {}
      },
      "source": [
        ""
      ],
      "execution_count": 0,
      "outputs": []
    },
    {
      "cell_type": "markdown",
      "metadata": {
        "id": "TO0QPDiwwrSQ",
        "colab_type": "text"
      },
      "source": [
        "**8 - Visualização diferente da combinação do Boxplot com Stripplot**"
      ]
    },
    {
      "cell_type": "code",
      "metadata": {
        "id": "W8eAldkkwVxA",
        "colab_type": "code",
        "colab": {}
      },
      "source": [
        ""
      ],
      "execution_count": 0,
      "outputs": []
    },
    {
      "cell_type": "markdown",
      "metadata": {
        "id": "ypphXlpAxezI",
        "colab_type": "text"
      },
      "source": [
        "**9 - Plotar todas as combinações possíveis de gráfico do dataframe, agrupadas por Species**"
      ]
    },
    {
      "cell_type": "code",
      "metadata": {
        "id": "bF44WV5Cw8f3",
        "colab_type": "code",
        "colab": {}
      },
      "source": [
        ""
      ],
      "execution_count": 0,
      "outputs": []
    }
  ]
}