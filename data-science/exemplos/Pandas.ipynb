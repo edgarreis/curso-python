{
  "nbformat": 4,
  "nbformat_minor": 0,
  "metadata": {
    "kernelspec": {
      "display_name": "Python 3",
      "language": "python",
      "name": "python3"
    },
    "language_info": {
      "codemirror_mode": {
        "name": "ipython",
        "version": 3
      },
      "file_extension": ".py",
      "mimetype": "text/x-python",
      "name": "python",
      "nbconvert_exporter": "python",
      "pygments_lexer": "ipython3",
      "version": "3.7.4"
    },
    "colab": {
      "name": "Copy of Pandas.ipynb",
      "provenance": [],
      "collapsed_sections": []
    }
  },
  "cells": [
    {
      "cell_type": "markdown",
      "metadata": {
        "id": "psUEMFfma-ck",
        "colab_type": "text"
      },
      "source": [
        "# Pandas\n",
        "\n",
        "Pacote que provê estruturas de dados que são rápidas, flexíveis e expressivas para trabalhar com dados \"relacionais\" ou \"nomeados\" de forma fácil e intuitiva.\n",
        "\n",
        "O pandas é adequado para diferentes tipos de dados:\n",
        "\n",
        "- Dados tabulares com colunas de tipos heterogêneos, como uma tabela SQL ou uma planilha do Excel\n",
        "- Séries de dados temporais que ordenados ou não ordenados\n",
        "- Dados arbitrários de matrizes com nomeação para linhas e colunas"
      ]
    },
    {
      "cell_type": "markdown",
      "metadata": {
        "id": "uiJXtIp5a-cp",
        "colab_type": "text"
      },
      "source": [
        "As duas estruturas de dados primárias do pandas são `Series` (1 dimensão) e o `DataFrame` (2 dimensões)."
      ]
    },
    {
      "cell_type": "markdown",
      "metadata": {
        "id": "Ae7j6I_TdXsv",
        "colab_type": "text"
      },
      "source": [
        "1) Criar um Dataframe a partir de uma matriz NumPy"
      ]
    },
    {
      "cell_type": "markdown",
      "metadata": {
        "id": "cgFtlgQedxb2",
        "colab_type": "text"
      },
      "source": [
        "2) Definir rótulos para linhas e colunas"
      ]
    },
    {
      "cell_type": "markdown",
      "metadata": {
        "id": "vkEV-uUFeF5B",
        "colab_type": "text"
      },
      "source": [
        "3) Tipo de dados da biblioteca Pandas"
      ]
    },
    {
      "cell_type": "markdown",
      "metadata": {
        "id": "HvEZcZoDfQIt",
        "colab_type": "text"
      },
      "source": [
        "4) Selecionar colunas específicas"
      ]
    },
    {
      "cell_type": "markdown",
      "metadata": {
        "id": "f1hL8k5wgCYY",
        "colab_type": "text"
      },
      "source": [
        "5) Adicionar novas colunas derivadas de outras"
      ]
    },
    {
      "cell_type": "markdown",
      "metadata": {
        "id": "ujyPvpmCgm7Q",
        "colab_type": "text"
      },
      "source": [
        "6) Deletar linhas e colunas"
      ]
    },
    {
      "cell_type": "markdown",
      "metadata": {
        "id": "_mhN0HJak9zo",
        "colab_type": "text"
      },
      "source": [
        "7) Selecionar um sub-dataframe"
      ]
    },
    {
      "cell_type": "markdown",
      "metadata": {
        "id": "an1gUflzkTTd",
        "colab_type": "text"
      },
      "source": [
        "8) Setar um coluna como index e resetar o index"
      ]
    },
    {
      "cell_type": "markdown",
      "metadata": {
        "id": "XYb_0XbEl8Bl",
        "colab_type": "text"
      },
      "source": [
        "9) Selecionar intervalo de linhas e colunas"
      ]
    },
    {
      "cell_type": "markdown",
      "metadata": {
        "id": "LRLWgmSPa-eU",
        "colab_type": "text"
      },
      "source": [
        "## Leitura de arquivos"
      ]
    },
    {
      "cell_type": "markdown",
      "metadata": {
        "id": "DCorrog9oI4z",
        "colab_type": "text"
      },
      "source": [
        "1) Importando arquivos CSV"
      ]
    },
    {
      "cell_type": "markdown",
      "metadata": {
        "id": "LuXRACryp6hz",
        "colab_type": "text"
      },
      "source": [
        "2) Listando colunas"
      ]
    },
    {
      "cell_type": "markdown",
      "metadata": {
        "id": "22rRbAP4qGbm",
        "colab_type": "text"
      },
      "source": [
        "3) Exibir os primeiros e últimos registros"
      ]
    },
    {
      "cell_type": "markdown",
      "metadata": {
        "id": "1CihDIQaqt96",
        "colab_type": "text"
      },
      "source": [
        "4) Filtrar linhas por valor de coluna"
      ]
    },
    {
      "cell_type": "markdown",
      "metadata": {
        "id": "YskxNftVsNU2",
        "colab_type": "text"
      },
      "source": [
        "5) Extrair dados de um Dataframe e mostrar a quantidade de linhas"
      ]
    },
    {
      "cell_type": "markdown",
      "metadata": {
        "id": "Nzqz5X6ltV-L",
        "colab_type": "text"
      },
      "source": [
        "6) Cópia profunda"
      ]
    },
    {
      "cell_type": "markdown",
      "metadata": {
        "id": "uoG90MOZtiei",
        "colab_type": "text"
      },
      "source": [
        "7) Remover coluna com retorno"
      ]
    },
    {
      "cell_type": "markdown",
      "metadata": {
        "id": "oIv7YTwbuUqg",
        "colab_type": "text"
      },
      "source": [
        "8) Filtrar para valores únicos"
      ]
    },
    {
      "cell_type": "markdown",
      "metadata": {
        "id": "J2p-EX72u4at",
        "colab_type": "text"
      },
      "source": [
        "9) Valores máximo, mínimo e médio"
      ]
    },
    {
      "cell_type": "markdown",
      "metadata": {
        "id": "KIRxEPSevemg",
        "colab_type": "text"
      },
      "source": [
        "10) Estatística descritiva"
      ]
    },
    {
      "cell_type": "markdown",
      "metadata": {
        "id": "h1ab7ojga-fJ",
        "colab_type": "text"
      },
      "source": [
        "## Funcionalidades básicas"
      ]
    },
    {
      "cell_type": "markdown",
      "metadata": {
        "id": "OaMN-Z-CbtIZ",
        "colab_type": "text"
      },
      "source": [
        "1) Gerar intervalos de datas"
      ]
    },
    {
      "cell_type": "markdown",
      "metadata": {
        "id": "vJbIYhkMxY06",
        "colab_type": "text"
      },
      "source": [
        "2) Converter um Dataframe para um array NumPy"
      ]
    },
    {
      "cell_type": "markdown",
      "metadata": {
        "id": "RYWuVDJWxUWt",
        "colab_type": "text"
      },
      "source": [
        "3) Operações com Dataframe"
      ]
    },
    {
      "cell_type": "markdown",
      "metadata": {
        "id": "abilmSSRyF5_",
        "colab_type": "text"
      },
      "source": [
        "4) Aplicar uma função à linhas ou colunas"
      ]
    },
    {
      "cell_type": "markdown",
      "metadata": {
        "id": "EY_TORsX0Jwb",
        "colab_type": "text"
      },
      "source": [
        "5) Função lambda"
      ]
    },
    {
      "cell_type": "markdown",
      "metadata": {
        "id": "uvn34T000yVd",
        "colab_type": "text"
      },
      "source": [
        "6) Salvar em arquivo CSV"
      ]
    }
  ]
}