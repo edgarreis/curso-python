{
 "cells": [
  {
   "cell_type": "markdown",
   "metadata": {},
   "source": [
    "Lista de Alunos"
   ]
  },
  {
   "cell_type": "code",
   "execution_count": 1,
   "metadata": {},
   "outputs": [],
   "source": [
    "usuarios_ds = [15,23,43,56]\n",
    "usuarios_ml = [17,56,23,47]"
   ]
  },
  {
   "cell_type": "code",
   "execution_count": 2,
   "metadata": {},
   "outputs": [],
   "source": [
    "assistiram = usuarios_ds.copy()\n",
    "assistiram.extend(usuarios_ml)\n",
    "email = set(assistiram)\n"
   ]
  },
  {
   "cell_type": "code",
   "execution_count": 3,
   "metadata": {},
   "outputs": [
    {
     "data": {
      "text/plain": [
       "set"
      ]
     },
     "execution_count": 3,
     "metadata": {},
     "output_type": "execute_result"
    }
   ],
   "source": [
    "type(email) # tipo conjunto (set) - set não a acesso direto ao elementos (email[1], email[3])"
   ]
  },
  {
   "cell_type": "code",
   "execution_count": 4,
   "metadata": {},
   "outputs": [],
   "source": [
    "set_usuarios_ds = set(usuarios_ds)  # Transforma uma list em set para operações de conjuntos numéricos\n",
    "set_usuarios_ml = set(usuarios_ml)  # Transforma uma list em set para operações  de conjuntos numéricos"
   ]
  },
  {
   "cell_type": "code",
   "execution_count": 5,
   "metadata": {},
   "outputs": [
    {
     "data": {
      "text/plain": [
       "{15, 17, 23, 43, 47, 56}"
      ]
     },
     "execution_count": 5,
     "metadata": {},
     "output_type": "execute_result"
    }
   ],
   "source": [
    "set_usuarios_ds | set_usuarios_ml   # operações de conjuntos numéricos OU"
   ]
  },
  {
   "cell_type": "code",
   "execution_count": 6,
   "metadata": {},
   "outputs": [
    {
     "data": {
      "text/plain": [
       "{23, 56}"
      ]
     },
     "execution_count": 6,
     "metadata": {},
     "output_type": "execute_result"
    }
   ],
   "source": [
    "set_usuarios_ds & set_usuarios_ml   # operações de conjuntos numéricos E"
   ]
  },
  {
   "cell_type": "code",
   "execution_count": 7,
   "metadata": {},
   "outputs": [],
   "source": [
    "ds_sem_ml = set_usuarios_ds - set_usuarios_ml   # operações de conjuntos numéricos - intercecção"
   ]
  },
  {
   "cell_type": "code",
   "execution_count": 8,
   "metadata": {},
   "outputs": [
    {
     "data": {
      "text/plain": [
       "True"
      ]
     },
     "execution_count": 8,
     "metadata": {},
     "output_type": "execute_result"
    }
   ],
   "source": [
    "15 in ds_sem_ml         # o 15 está nesse conjunto?"
   ]
  },
  {
   "cell_type": "code",
   "execution_count": 9,
   "metadata": {},
   "outputs": [
    {
     "data": {
      "text/plain": [
       "False"
      ]
     },
     "execution_count": 9,
     "metadata": {},
     "output_type": "execute_result"
    }
   ],
   "source": [
    "17 in ds_sem_ml         # o 17 está nesse conjunto?"
   ]
  },
  {
   "cell_type": "code",
   "execution_count": 10,
   "metadata": {},
   "outputs": [
    {
     "data": {
      "text/plain": [
       "{15, 17, 43, 47}"
      ]
     },
     "execution_count": 10,
     "metadata": {},
     "output_type": "execute_result"
    }
   ],
   "source": [
    "xor_ds_ml = set_usuarios_ds ^ set_usuarios_ml   # operações de conjuntos numéricos - ou exclusivo\n",
    "xor_ds_ml"
   ]
  },
  {
   "cell_type": "code",
   "execution_count": 11,
   "metadata": {},
   "outputs": [
    {
     "data": {
      "text/plain": [
       "5"
      ]
     },
     "execution_count": 11,
     "metadata": {},
     "output_type": "execute_result"
    }
   ],
   "source": [
    "set_usuarios_ds.add(80)             # método para adicionar itens no conjunto\n",
    "len(set_usuarios_ds)"
   ]
  },
  {
   "cell_type": "code",
   "execution_count": 12,
   "metadata": {},
   "outputs": [
    {
     "data": {
      "text/plain": [
       "frozenset"
      ]
     },
     "execution_count": 12,
     "metadata": {},
     "output_type": "execute_result"
    }
   ],
   "source": [
    "frozenset_usuarios_ds = frozenset(set_usuarios_ds)      # método para congelar itens de um conjuntor, não é mais possivel adicionar\n",
    "type(frozenset_usuarios_ds)"
   ]
  },
  {
   "cell_type": "code",
   "execution_count": 13,
   "metadata": {},
   "outputs": [],
   "source": [
    "texto = \"Minha terra tem palmeiras onde canta o sabiá; as aves, que aqui gorjeiam, não gorjeiam como lá. Nosso céu tem mais estrelas, -nossas várzeas têm mais flores, nossos bosques têm mais vida, nossa vida mais amores. Em cismar, sozinho à noite, mais prazer encontro eu lá; minha terra tem palmeiras, onde canta o sabiá. Minha terra tem primores, que tais não encontro eu cá; em cismar — sozinho, à noite mais prazer encontro eu lá; minha terra tem palmeiras, onde canta o sabiá. Não permita Deus que eu morra, sem que eu volte para lá; sem que desfrute os primores que não encontro por cá; sem qu'inda aviste as palmeiras, onde canta o sabiá. \""
   ]
  },
  {
   "cell_type": "code",
   "execution_count": 14,
   "metadata": {},
   "outputs": [
    {
     "data": {
      "text/plain": [
       "['Minha',\n",
       " 'terra',\n",
       " 'tem',\n",
       " 'palmeiras',\n",
       " 'onde',\n",
       " 'canta',\n",
       " 'o',\n",
       " 'sabiá;',\n",
       " 'as',\n",
       " 'aves,',\n",
       " 'que',\n",
       " 'aqui',\n",
       " 'gorjeiam,',\n",
       " 'não',\n",
       " 'gorjeiam',\n",
       " 'como',\n",
       " 'lá.',\n",
       " 'Nosso',\n",
       " 'céu',\n",
       " 'tem',\n",
       " 'mais',\n",
       " 'estrelas,',\n",
       " '-nossas',\n",
       " 'várzeas',\n",
       " 'têm',\n",
       " 'mais',\n",
       " 'flores,',\n",
       " 'nossos',\n",
       " 'bosques',\n",
       " 'têm',\n",
       " 'mais',\n",
       " 'vida,',\n",
       " 'nossa',\n",
       " 'vida',\n",
       " 'mais',\n",
       " 'amores.',\n",
       " 'Em',\n",
       " 'cismar,',\n",
       " 'sozinho',\n",
       " 'à',\n",
       " 'noite,',\n",
       " 'mais',\n",
       " 'prazer',\n",
       " 'encontro',\n",
       " 'eu',\n",
       " 'lá;',\n",
       " 'minha',\n",
       " 'terra',\n",
       " 'tem',\n",
       " 'palmeiras,',\n",
       " 'onde',\n",
       " 'canta',\n",
       " 'o',\n",
       " 'sabiá.',\n",
       " 'Minha',\n",
       " 'terra',\n",
       " 'tem',\n",
       " 'primores,',\n",
       " 'que',\n",
       " 'tais',\n",
       " 'não',\n",
       " 'encontro',\n",
       " 'eu',\n",
       " 'cá;',\n",
       " 'em',\n",
       " 'cismar',\n",
       " '—',\n",
       " 'sozinho,',\n",
       " 'à',\n",
       " 'noite',\n",
       " 'mais',\n",
       " 'prazer',\n",
       " 'encontro',\n",
       " 'eu',\n",
       " 'lá;',\n",
       " 'minha',\n",
       " 'terra',\n",
       " 'tem',\n",
       " 'palmeiras,',\n",
       " 'onde',\n",
       " 'canta',\n",
       " 'o',\n",
       " 'sabiá.',\n",
       " 'Não',\n",
       " 'permita',\n",
       " 'Deus',\n",
       " 'que',\n",
       " 'eu',\n",
       " 'morra,',\n",
       " 'sem',\n",
       " 'que',\n",
       " 'eu',\n",
       " 'volte',\n",
       " 'para',\n",
       " 'lá;',\n",
       " 'sem',\n",
       " 'que',\n",
       " 'desfrute',\n",
       " 'os',\n",
       " 'primores',\n",
       " 'que',\n",
       " 'não',\n",
       " 'encontro',\n",
       " 'por',\n",
       " 'cá;',\n",
       " 'sem',\n",
       " \"qu'inda\",\n",
       " 'aviste',\n",
       " 'as',\n",
       " 'palmeiras,',\n",
       " 'onde',\n",
       " 'canta',\n",
       " 'o',\n",
       " 'sabiá.']"
      ]
     },
     "execution_count": 14,
     "metadata": {},
     "output_type": "execute_result"
    }
   ],
   "source": [
    "texto.split()"
   ]
  },
  {
   "cell_type": "code",
   "execution_count": 15,
   "metadata": {},
   "outputs": [
    {
     "data": {
      "text/plain": [
       "{'-nossas',\n",
       " 'Deus',\n",
       " 'Em',\n",
       " 'Minha',\n",
       " 'Nosso',\n",
       " 'Não',\n",
       " 'amores.',\n",
       " 'aqui',\n",
       " 'as',\n",
       " 'aves,',\n",
       " 'aviste',\n",
       " 'bosques',\n",
       " 'canta',\n",
       " 'cismar',\n",
       " 'cismar,',\n",
       " 'como',\n",
       " 'cá;',\n",
       " 'céu',\n",
       " 'desfrute',\n",
       " 'em',\n",
       " 'encontro',\n",
       " 'estrelas,',\n",
       " 'eu',\n",
       " 'flores,',\n",
       " 'gorjeiam',\n",
       " 'gorjeiam,',\n",
       " 'lá.',\n",
       " 'lá;',\n",
       " 'mais',\n",
       " 'minha',\n",
       " 'morra,',\n",
       " 'noite',\n",
       " 'noite,',\n",
       " 'nossa',\n",
       " 'nossos',\n",
       " 'não',\n",
       " 'o',\n",
       " 'onde',\n",
       " 'os',\n",
       " 'palmeiras',\n",
       " 'palmeiras,',\n",
       " 'para',\n",
       " 'permita',\n",
       " 'por',\n",
       " 'prazer',\n",
       " 'primores',\n",
       " 'primores,',\n",
       " \"qu'inda\",\n",
       " 'que',\n",
       " 'sabiá.',\n",
       " 'sabiá;',\n",
       " 'sem',\n",
       " 'sozinho',\n",
       " 'sozinho,',\n",
       " 'tais',\n",
       " 'tem',\n",
       " 'terra',\n",
       " 'têm',\n",
       " 'vida',\n",
       " 'vida,',\n",
       " 'volte',\n",
       " 'várzeas',\n",
       " 'à',\n",
       " '—'}"
      ]
     },
     "execution_count": 15,
     "metadata": {},
     "output_type": "execute_result"
    }
   ],
   "source": [
    "set_texto = set(texto.split())\n",
    "set_texto"
   ]
  },
  {
   "cell_type": "code",
   "execution_count": 16,
   "metadata": {},
   "outputs": [
    {
     "name": "stdout",
     "output_type": "stream",
     "text": [
      "Minha\n",
      "terra\n",
      "tem\n",
      "palmeiras\n",
      "onde\n",
      "canta\n",
      "o\n",
      "sabiá\n",
      "as\n",
      "aves\n",
      "que\n",
      "aqui\n",
      "gorjeiam\n",
      "não\n",
      "gorjeiam\n",
      "como\n",
      "lá\n",
      "Nosso\n",
      "céu\n",
      "tem\n",
      "mais\n",
      "estrelas\n",
      "-nossa\n",
      "várzeas\n",
      "têm\n",
      "mais\n",
      "flores\n",
      "nossos\n",
      "bosques\n",
      "têm\n",
      "mais\n",
      "vida\n",
      "nossa\n",
      "vida\n",
      "mais\n",
      "amores\n",
      "Em\n",
      "cismar\n",
      "sozinho\n",
      "à\n",
      "noite\n",
      "mais\n",
      "prazer\n",
      "encontro\n",
      "eu\n",
      "lá\n",
      "minha\n",
      "terra\n",
      "tem\n",
      "palmeiras\n",
      "onde\n",
      "canta\n",
      "o\n",
      "sabiá\n",
      "Minha\n",
      "terra\n",
      "tem\n",
      "primores\n",
      "que\n",
      "tais\n",
      "não\n",
      "encontro\n",
      "eu\n",
      "cá\n",
      "em\n",
      "cismar\n",
      "—\n",
      "sozinho\n",
      "à\n",
      "noite\n",
      "mais\n",
      "prazer\n",
      "encontro\n",
      "eu\n",
      "lá\n",
      "minha\n",
      "terra\n",
      "tem\n",
      "palmeiras\n",
      "onde\n",
      "canta\n",
      "o\n",
      "sabiá\n",
      "Não\n",
      "permita\n",
      "Deus\n",
      "que\n",
      "eu\n",
      "morra\n",
      "sem\n",
      "que\n",
      "eu\n",
      "volte\n",
      "para\n",
      "lá\n",
      "sem\n",
      "que\n",
      "desfrute\n",
      "os\n",
      "primores\n",
      "que\n",
      "não\n",
      "encontro\n",
      "por\n",
      "cá\n",
      "sem\n",
      "qu'inda\n",
      "aviste\n",
      "as\n",
      "palmeiras\n",
      "onde\n",
      "canta\n",
      "o\n",
      "sabiá\n"
     ]
    }
   ],
   "source": [
    "palavras = texto.split()\n",
    "\n",
    "for palavra in palavras:\n",
    "    \n",
    "    if ',' in palavra or ';' in palavra or ':' in palavra or '.' in palavra or '-' in palavra or '...' in palavra:\n",
    "        print(palavra[:-1])\n",
    "    else:\n",
    "        print(palavra)"
   ]
  },
  {
   "cell_type": "code",
   "execution_count": 17,
   "metadata": {},
   "outputs": [],
   "source": [
    "palavras = palavras"
   ]
  },
  {
   "cell_type": "code",
   "execution_count": 19,
   "metadata": {},
   "outputs": [
    {
     "data": {
      "text/plain": [
       "{'-nossas',\n",
       " 'Deus',\n",
       " 'Em',\n",
       " 'Minha',\n",
       " 'Nosso',\n",
       " 'Não',\n",
       " 'amores.',\n",
       " 'aqui',\n",
       " 'as',\n",
       " 'aves,',\n",
       " 'aviste',\n",
       " 'bosques',\n",
       " 'canta',\n",
       " 'cismar',\n",
       " 'cismar,',\n",
       " 'como',\n",
       " 'cá;',\n",
       " 'céu',\n",
       " 'desfrute',\n",
       " 'em',\n",
       " 'encontro',\n",
       " 'estrelas,',\n",
       " 'eu',\n",
       " 'flores,',\n",
       " 'gorjeiam',\n",
       " 'gorjeiam,',\n",
       " 'lá.',\n",
       " 'lá;',\n",
       " 'mais',\n",
       " 'minha',\n",
       " 'morra,',\n",
       " 'noite',\n",
       " 'noite,',\n",
       " 'nossa',\n",
       " 'nossos',\n",
       " 'não',\n",
       " 'o',\n",
       " 'onde',\n",
       " 'os',\n",
       " 'palmeiras',\n",
       " 'palmeiras,',\n",
       " 'para',\n",
       " 'permita',\n",
       " 'por',\n",
       " 'prazer',\n",
       " 'primores',\n",
       " 'primores,',\n",
       " \"qu'inda\",\n",
       " 'que',\n",
       " 'sabiá.',\n",
       " 'sabiá;',\n",
       " 'sem',\n",
       " 'sozinho',\n",
       " 'sozinho,',\n",
       " 'tais',\n",
       " 'tem',\n",
       " 'terra',\n",
       " 'têm',\n",
       " 'vida',\n",
       " 'vida,',\n",
       " 'volte',\n",
       " 'várzeas',\n",
       " 'à',\n",
       " '—'}"
      ]
     },
     "execution_count": 19,
     "metadata": {},
     "output_type": "execute_result"
    }
   ],
   "source": [
    "set_texto = set(texto.split())\n",
    "set_texto"
   ]
  },
  {
   "cell_type": "markdown",
   "metadata": {},
   "source": [
    "Dicionário (Mapa/Chave-Valor)"
   ]
  },
  {
   "cell_type": "code",
   "execution_count": 22,
   "metadata": {},
   "outputs": [],
   "source": [
    "aparicoes = {\n",
    "    \"Guilherme\":1,\n",
    "    \"Diana\":2,\n",
    "    \"Mauricio\":4\n",
    "}"
   ]
  },
  {
   "cell_type": "code",
   "execution_count": 23,
   "metadata": {},
   "outputs": [
    {
     "data": {
      "text/plain": [
       "dict"
      ]
     },
     "execution_count": 23,
     "metadata": {},
     "output_type": "execute_result"
    }
   ],
   "source": [
    "type(aparicoes)"
   ]
  },
  {
   "cell_type": "code",
   "execution_count": 24,
   "metadata": {},
   "outputs": [
    {
     "data": {
      "text/plain": [
       "1"
      ]
     },
     "execution_count": 24,
     "metadata": {},
     "output_type": "execute_result"
    }
   ],
   "source": [
    "aparicoes[\"Guilherme\"]"
   ]
  },
  {
   "cell_type": "code",
   "execution_count": 25,
   "metadata": {},
   "outputs": [
    {
     "data": {
      "text/plain": [
       "dict_keys(['Guilherme', 'Diana', 'Mauricio'])"
      ]
     },
     "execution_count": 25,
     "metadata": {},
     "output_type": "execute_result"
    }
   ],
   "source": [
    "aparicoes.keys()"
   ]
  },
  {
   "cell_type": "code",
   "execution_count": 26,
   "metadata": {},
   "outputs": [
    {
     "data": {
      "text/plain": [
       "1"
      ]
     },
     "execution_count": 26,
     "metadata": {},
     "output_type": "execute_result"
    }
   ],
   "source": [
    "aparicoes.get(\"Guilherme\",0)"
   ]
  },
  {
   "cell_type": "code",
   "execution_count": 29,
   "metadata": {},
   "outputs": [
    {
     "data": {
      "text/plain": [
       "{'Guilherme': 1, 'Diana': 2, 'Mauricio': 4, 'Carlos': 2}"
      ]
     },
     "execution_count": 29,
     "metadata": {},
     "output_type": "execute_result"
    }
   ],
   "source": [
    "aparicoes[\"Carlos\"] = 2\n",
    "aparicoes"
   ]
  },
  {
   "cell_type": "code",
   "execution_count": 30,
   "metadata": {},
   "outputs": [
    {
     "data": {
      "text/plain": [
       "{'Guilherme': 1, 'Diana': 2, 'Mauricio': 4}"
      ]
     },
     "execution_count": 30,
     "metadata": {},
     "output_type": "execute_result"
    }
   ],
   "source": [
    "del aparicoes[\"Carlos\"]\n",
    "aparicoes"
   ]
  },
  {
   "cell_type": "code",
   "execution_count": 32,
   "metadata": {},
   "outputs": [
    {
     "ename": "KeyError",
     "evalue": "'Guilherme'",
     "output_type": "error",
     "traceback": [
      "\u001b[0;31m---------------------------------------------------------------------------\u001b[0m",
      "\u001b[0;31mKeyError\u001b[0m                                  Traceback (most recent call last)",
      "Cell \u001b[0;32mIn[32], line 1\u001b[0m\n\u001b[0;32m----> 1\u001b[0m aparicoes\u001b[39m.\u001b[39;49mpop(\u001b[39m\"\u001b[39;49m\u001b[39mGuilherme\u001b[39;49m\u001b[39m\"\u001b[39;49m)\n\u001b[1;32m      2\u001b[0m aparicoes\n",
      "\u001b[0;31mKeyError\u001b[0m: 'Guilherme'"
     ]
    }
   ],
   "source": [
    "aparicoes.pop(\"Guilherme\")"
   ]
  },
  {
   "cell_type": "code",
   "execution_count": 33,
   "metadata": {},
   "outputs": [
    {
     "data": {
      "text/plain": [
       "{'Diana': 2, 'Mauricio': 4}"
      ]
     },
     "execution_count": 33,
     "metadata": {},
     "output_type": "execute_result"
    }
   ],
   "source": [
    "aparicoes"
   ]
  },
  {
   "cell_type": "code",
   "execution_count": 34,
   "metadata": {},
   "outputs": [
    {
     "data": {
      "text/plain": [
       "True"
      ]
     },
     "execution_count": 34,
     "metadata": {},
     "output_type": "execute_result"
    }
   ],
   "source": [
    "\"Diana\" in aparicoes"
   ]
  },
  {
   "cell_type": "code",
   "execution_count": 35,
   "metadata": {},
   "outputs": [
    {
     "data": {
      "text/plain": [
       "set"
      ]
     },
     "execution_count": 35,
     "metadata": {},
     "output_type": "execute_result"
    }
   ],
   "source": [
    "type(set_texto)"
   ]
  },
  {
   "cell_type": "code",
   "execution_count": 36,
   "metadata": {},
   "outputs": [
    {
     "data": {
      "text/plain": [
       "list"
      ]
     },
     "execution_count": 36,
     "metadata": {},
     "output_type": "execute_result"
    }
   ],
   "source": [
    "type(palavras)"
   ]
  },
  {
   "cell_type": "code",
   "execution_count": 37,
   "metadata": {},
   "outputs": [],
   "source": [
    "from collections import Counter"
   ]
  },
  {
   "cell_type": "code",
   "execution_count": 38,
   "metadata": {},
   "outputs": [],
   "source": [
    "dict_palavras=Counter(palavras)"
   ]
  },
  {
   "cell_type": "code",
   "execution_count": 39,
   "metadata": {},
   "outputs": [
    {
     "data": {
      "text/plain": [
       "Counter({'Minha': 2,\n",
       "         'terra': 4,\n",
       "         'tem': 5,\n",
       "         'palmeiras': 1,\n",
       "         'onde': 4,\n",
       "         'canta': 4,\n",
       "         'o': 4,\n",
       "         'sabiá;': 1,\n",
       "         'as': 2,\n",
       "         'aves,': 1,\n",
       "         'que': 6,\n",
       "         'aqui': 1,\n",
       "         'gorjeiam,': 1,\n",
       "         'não': 3,\n",
       "         'gorjeiam': 1,\n",
       "         'como': 1,\n",
       "         'lá.': 1,\n",
       "         'Nosso': 1,\n",
       "         'céu': 1,\n",
       "         'mais': 6,\n",
       "         'estrelas,': 1,\n",
       "         '-nossas': 1,\n",
       "         'várzeas': 1,\n",
       "         'têm': 2,\n",
       "         'flores,': 1,\n",
       "         'nossos': 1,\n",
       "         'bosques': 1,\n",
       "         'vida,': 1,\n",
       "         'nossa': 1,\n",
       "         'vida': 1,\n",
       "         'amores.': 1,\n",
       "         'Em': 1,\n",
       "         'cismar,': 1,\n",
       "         'sozinho': 1,\n",
       "         'à': 2,\n",
       "         'noite,': 1,\n",
       "         'prazer': 2,\n",
       "         'encontro': 4,\n",
       "         'eu': 5,\n",
       "         'lá;': 3,\n",
       "         'minha': 2,\n",
       "         'palmeiras,': 3,\n",
       "         'sabiá.': 3,\n",
       "         'primores,': 1,\n",
       "         'tais': 1,\n",
       "         'cá;': 2,\n",
       "         'em': 1,\n",
       "         'cismar': 1,\n",
       "         '—': 1,\n",
       "         'sozinho,': 1,\n",
       "         'noite': 1,\n",
       "         'Não': 1,\n",
       "         'permita': 1,\n",
       "         'Deus': 1,\n",
       "         'morra,': 1,\n",
       "         'sem': 3,\n",
       "         'volte': 1,\n",
       "         'para': 1,\n",
       "         'desfrute': 1,\n",
       "         'os': 1,\n",
       "         'primores': 1,\n",
       "         'por': 1,\n",
       "         \"qu'inda\": 1,\n",
       "         'aviste': 1})"
      ]
     },
     "execution_count": 39,
     "metadata": {},
     "output_type": "execute_result"
    }
   ],
   "source": [
    "dict_palavras"
   ]
  },
  {
   "cell_type": "code",
   "execution_count": 42,
   "metadata": {},
   "outputs": [
    {
     "data": {
      "text/plain": [
       "dict"
      ]
     },
     "execution_count": 42,
     "metadata": {},
     "output_type": "execute_result"
    }
   ],
   "source": [
    "type(dict_palavras)"
   ]
  },
  {
   "cell_type": "code",
   "execution_count": 41,
   "metadata": {},
   "outputs": [],
   "source": [
    "dict_palavras = dict(dict_palavras)"
   ]
  },
  {
   "cell_type": "code",
   "execution_count": 43,
   "metadata": {},
   "outputs": [
    {
     "data": {
      "text/plain": [
       "{'Minha': 2,\n",
       " 'terra': 4,\n",
       " 'tem': 5,\n",
       " 'palmeiras': 1,\n",
       " 'onde': 4,\n",
       " 'canta': 4,\n",
       " 'o': 4,\n",
       " 'sabiá;': 1,\n",
       " 'as': 2,\n",
       " 'aves,': 1,\n",
       " 'que': 6,\n",
       " 'aqui': 1,\n",
       " 'gorjeiam,': 1,\n",
       " 'não': 3,\n",
       " 'gorjeiam': 1,\n",
       " 'como': 1,\n",
       " 'lá.': 1,\n",
       " 'Nosso': 1,\n",
       " 'céu': 1,\n",
       " 'mais': 6,\n",
       " 'estrelas,': 1,\n",
       " '-nossas': 1,\n",
       " 'várzeas': 1,\n",
       " 'têm': 2,\n",
       " 'flores,': 1,\n",
       " 'nossos': 1,\n",
       " 'bosques': 1,\n",
       " 'vida,': 1,\n",
       " 'nossa': 1,\n",
       " 'vida': 1,\n",
       " 'amores.': 1,\n",
       " 'Em': 1,\n",
       " 'cismar,': 1,\n",
       " 'sozinho': 1,\n",
       " 'à': 2,\n",
       " 'noite,': 1,\n",
       " 'prazer': 2,\n",
       " 'encontro': 4,\n",
       " 'eu': 5,\n",
       " 'lá;': 3,\n",
       " 'minha': 2,\n",
       " 'palmeiras,': 3,\n",
       " 'sabiá.': 3,\n",
       " 'primores,': 1,\n",
       " 'tais': 1,\n",
       " 'cá;': 2,\n",
       " 'em': 1,\n",
       " 'cismar': 1,\n",
       " '—': 1,\n",
       " 'sozinho,': 1,\n",
       " 'noite': 1,\n",
       " 'Não': 1,\n",
       " 'permita': 1,\n",
       " 'Deus': 1,\n",
       " 'morra,': 1,\n",
       " 'sem': 3,\n",
       " 'volte': 1,\n",
       " 'para': 1,\n",
       " 'desfrute': 1,\n",
       " 'os': 1,\n",
       " 'primores': 1,\n",
       " 'por': 1,\n",
       " \"qu'inda\": 1,\n",
       " 'aviste': 1}"
      ]
     },
     "execution_count": 43,
     "metadata": {},
     "output_type": "execute_result"
    }
   ],
   "source": [
    "dict_palavras"
   ]
  },
  {
   "cell_type": "code",
   "execution_count": 44,
   "metadata": {},
   "outputs": [
    {
     "data": {
      "text/plain": [
       "True"
      ]
     },
     "execution_count": 44,
     "metadata": {},
     "output_type": "execute_result"
    }
   ],
   "source": [
    "\"que\" in dict_palavras"
   ]
  },
  {
   "cell_type": "code",
   "execution_count": 45,
   "metadata": {},
   "outputs": [
    {
     "data": {
      "text/plain": [
       "6"
      ]
     },
     "execution_count": 45,
     "metadata": {},
     "output_type": "execute_result"
    }
   ],
   "source": [
    "dict_palavras[\"que\"]"
   ]
  },
  {
   "cell_type": "code",
   "execution_count": 46,
   "metadata": {},
   "outputs": [
    {
     "name": "stdout",
     "output_type": "stream",
     "text": [
      "Minha\n",
      "terra\n",
      "tem\n",
      "palmeiras\n",
      "onde\n",
      "canta\n",
      "o\n",
      "sabiá;\n",
      "as\n",
      "aves,\n",
      "que\n",
      "aqui\n",
      "gorjeiam,\n",
      "não\n",
      "gorjeiam\n",
      "como\n",
      "lá.\n",
      "Nosso\n",
      "céu\n",
      "mais\n",
      "estrelas,\n",
      "-nossas\n",
      "várzeas\n",
      "têm\n",
      "flores,\n",
      "nossos\n",
      "bosques\n",
      "vida,\n",
      "nossa\n",
      "vida\n",
      "amores.\n",
      "Em\n",
      "cismar,\n",
      "sozinho\n",
      "à\n",
      "noite,\n",
      "prazer\n",
      "encontro\n",
      "eu\n",
      "lá;\n",
      "minha\n",
      "palmeiras,\n",
      "sabiá.\n",
      "primores,\n",
      "tais\n",
      "cá;\n",
      "em\n",
      "cismar\n",
      "—\n",
      "sozinho,\n",
      "noite\n",
      "Não\n",
      "permita\n",
      "Deus\n",
      "morra,\n",
      "sem\n",
      "volte\n",
      "para\n",
      "desfrute\n",
      "os\n",
      "primores\n",
      "por\n",
      "qu'inda\n",
      "aviste\n"
     ]
    }
   ],
   "source": [
    "for elemento in dict_palavras: print(elemento)"
   ]
  },
  {
   "cell_type": "code",
   "execution_count": 50,
   "metadata": {},
   "outputs": [
    {
     "name": "stdout",
     "output_type": "stream",
     "text": [
      "('Minha', 2)\n",
      "('terra', 4)\n",
      "('tem', 5)\n",
      "('palmeiras', 1)\n",
      "('onde', 4)\n",
      "('canta', 4)\n",
      "('o', 4)\n",
      "('sabiá;', 1)\n",
      "('as', 2)\n",
      "('aves,', 1)\n",
      "('que', 6)\n",
      "('aqui', 1)\n",
      "('gorjeiam,', 1)\n",
      "('não', 3)\n",
      "('gorjeiam', 1)\n",
      "('como', 1)\n",
      "('lá.', 1)\n",
      "('Nosso', 1)\n",
      "('céu', 1)\n",
      "('mais', 6)\n",
      "('estrelas,', 1)\n",
      "('-nossas', 1)\n",
      "('várzeas', 1)\n",
      "('têm', 2)\n",
      "('flores,', 1)\n",
      "('nossos', 1)\n",
      "('bosques', 1)\n",
      "('vida,', 1)\n",
      "('nossa', 1)\n",
      "('vida', 1)\n",
      "('amores.', 1)\n",
      "('Em', 1)\n",
      "('cismar,', 1)\n",
      "('sozinho', 1)\n",
      "('à', 2)\n",
      "('noite,', 1)\n",
      "('prazer', 2)\n",
      "('encontro', 4)\n",
      "('eu', 5)\n",
      "('lá;', 3)\n",
      "('minha', 2)\n",
      "('palmeiras,', 3)\n",
      "('sabiá.', 3)\n",
      "('primores,', 1)\n",
      "('tais', 1)\n",
      "('cá;', 2)\n",
      "('em', 1)\n",
      "('cismar', 1)\n",
      "('—', 1)\n",
      "('sozinho,', 1)\n",
      "('noite', 1)\n",
      "('Não', 1)\n",
      "('permita', 1)\n",
      "('Deus', 1)\n",
      "('morra,', 1)\n",
      "('sem', 3)\n",
      "('volte', 1)\n",
      "('para', 1)\n",
      "('desfrute', 1)\n",
      "('os', 1)\n",
      "('primores', 1)\n",
      "('por', 1)\n",
      "(\"qu'inda\", 1)\n",
      "('aviste', 1)\n"
     ]
    }
   ],
   "source": [
    "for elemento in dict_palavras.items(): print(elemento)"
   ]
  },
  {
   "cell_type": "code",
   "execution_count": 51,
   "metadata": {},
   "outputs": [
    {
     "name": "stdout",
     "output_type": "stream",
     "text": [
      "Minha = 2\n",
      "terra = 4\n",
      "tem = 5\n",
      "palmeiras = 1\n",
      "onde = 4\n",
      "canta = 4\n",
      "o = 4\n",
      "sabiá; = 1\n",
      "as = 2\n",
      "aves, = 1\n",
      "que = 6\n",
      "aqui = 1\n",
      "gorjeiam, = 1\n",
      "não = 3\n",
      "gorjeiam = 1\n",
      "como = 1\n",
      "lá. = 1\n",
      "Nosso = 1\n",
      "céu = 1\n",
      "mais = 6\n",
      "estrelas, = 1\n",
      "-nossas = 1\n",
      "várzeas = 1\n",
      "têm = 2\n",
      "flores, = 1\n",
      "nossos = 1\n",
      "bosques = 1\n",
      "vida, = 1\n",
      "nossa = 1\n",
      "vida = 1\n",
      "amores. = 1\n",
      "Em = 1\n",
      "cismar, = 1\n",
      "sozinho = 1\n",
      "à = 2\n",
      "noite, = 1\n",
      "prazer = 2\n",
      "encontro = 4\n",
      "eu = 5\n",
      "lá; = 3\n",
      "minha = 2\n",
      "palmeiras, = 3\n",
      "sabiá. = 3\n",
      "primores, = 1\n",
      "tais = 1\n",
      "cá; = 2\n",
      "em = 1\n",
      "cismar = 1\n",
      "— = 1\n",
      "sozinho, = 1\n",
      "noite = 1\n",
      "Não = 1\n",
      "permita = 1\n",
      "Deus = 1\n",
      "morra, = 1\n",
      "sem = 3\n",
      "volte = 1\n",
      "para = 1\n",
      "desfrute = 1\n",
      "os = 1\n",
      "primores = 1\n",
      "por = 1\n",
      "qu'inda = 1\n",
      "aviste = 1\n"
     ]
    }
   ],
   "source": [
    "for chave,valor in dict_palavras.items(): print(chave, \"=\", valor)"
   ]
  },
  {
   "cell_type": "code",
   "execution_count": 57,
   "metadata": {},
   "outputs": [
    {
     "data": {
      "text/plain": [
       "\"minha terra tem palmeiras onde canta o sabiá; as aves, que aqui gorjeiam, não gorjeiam como lá. nosso céu tem mais estrelas, -nossas várzeas têm mais flores, nossos bosques têm mais vida, nossa vida mais amores. em cismar, sozinho à noite, mais prazer encontro eu lá; minha terra tem palmeiras, onde canta o sabiá. minha terra tem primores, que tais não encontro eu cá; em cismar — sozinho, à noite mais prazer encontro eu lá; minha terra tem palmeiras, onde canta o sabiá. não permita deus que eu morra, sem que eu volte para lá; sem que desfrute os primores que não encontro por cá; sem qu'inda aviste as palmeiras, onde canta o sabiá. \""
      ]
     },
     "execution_count": 57,
     "metadata": {},
     "output_type": "execute_result"
    }
   ],
   "source": [
    "texto = texto.lower()\n",
    "texto"
   ]
  },
  {
   "cell_type": "code",
   "execution_count": 58,
   "metadata": {},
   "outputs": [],
   "source": [
    "from collections import defaultdict"
   ]
  },
  {
   "cell_type": "code",
   "execution_count": 61,
   "metadata": {},
   "outputs": [
    {
     "data": {
      "text/plain": [
       "defaultdict(int,\n",
       "            {'minha': 4,\n",
       "             'terra': 4,\n",
       "             'tem': 5,\n",
       "             'palmeiras': 1,\n",
       "             'onde': 4,\n",
       "             'canta': 4,\n",
       "             'o': 4,\n",
       "             'sabiá;': 1,\n",
       "             'as': 2,\n",
       "             'aves,': 1,\n",
       "             'que': 6,\n",
       "             'aqui': 1,\n",
       "             'gorjeiam,': 1,\n",
       "             'não': 4,\n",
       "             'gorjeiam': 1,\n",
       "             'como': 1,\n",
       "             'lá.': 1,\n",
       "             'nosso': 1,\n",
       "             'céu': 1,\n",
       "             'mais': 6,\n",
       "             'estrelas,': 1,\n",
       "             '-nossas': 1,\n",
       "             'várzeas': 1,\n",
       "             'têm': 2,\n",
       "             'flores,': 1,\n",
       "             'nossos': 1,\n",
       "             'bosques': 1,\n",
       "             'vida,': 1,\n",
       "             'nossa': 1,\n",
       "             'vida': 1,\n",
       "             'amores.': 1,\n",
       "             'em': 2,\n",
       "             'cismar,': 1,\n",
       "             'sozinho': 1,\n",
       "             'à': 2,\n",
       "             'noite,': 1,\n",
       "             'prazer': 2,\n",
       "             'encontro': 4,\n",
       "             'eu': 5,\n",
       "             'lá;': 3,\n",
       "             'palmeiras,': 3,\n",
       "             'sabiá.': 3,\n",
       "             'primores,': 1,\n",
       "             'tais': 1,\n",
       "             'cá;': 2,\n",
       "             'cismar': 1,\n",
       "             '—': 1,\n",
       "             'sozinho,': 1,\n",
       "             'noite': 1,\n",
       "             'permita': 1,\n",
       "             'deus': 1,\n",
       "             'morra,': 1,\n",
       "             'sem': 3,\n",
       "             'volte': 1,\n",
       "             'para': 1,\n",
       "             'desfrute': 1,\n",
       "             'os': 1,\n",
       "             'primores': 1,\n",
       "             'por': 1,\n",
       "             \"qu'inda\": 1,\n",
       "             'aviste': 1})"
      ]
     },
     "execution_count": 61,
     "metadata": {},
     "output_type": "execute_result"
    }
   ],
   "source": [
    "aparicoes = defaultdict(int)\n",
    "\n",
    "for palavra in texto.split():\n",
    "    ate_agora = aparicoes.get(palavra,0)\n",
    "    aparicoes[palavra] = ate_agora + 1\n",
    "\n",
    "aparicoes"
   ]
  },
  {
   "cell_type": "code",
   "execution_count": 86,
   "metadata": {},
   "outputs": [
    {
     "data": {
      "text/plain": [
       "defaultdict(int,\n",
       "            {'minha': 4,\n",
       "             'terra': 4,\n",
       "             'tem': 5,\n",
       "             'palmeiras': 1,\n",
       "             'onde': 4,\n",
       "             'canta': 4,\n",
       "             'o': 4,\n",
       "             'sabiá;': 1,\n",
       "             'as': 2,\n",
       "             'aves,': 1,\n",
       "             'que': 6,\n",
       "             'aqui': 1,\n",
       "             'gorjeiam,': 1,\n",
       "             'não': 4,\n",
       "             'gorjeiam': 1,\n",
       "             'como': 1,\n",
       "             'lá.': 1,\n",
       "             'nosso': 1,\n",
       "             'céu': 1,\n",
       "             'mais': 6,\n",
       "             'estrelas,': 1,\n",
       "             '-nossas': 1,\n",
       "             'várzeas': 1,\n",
       "             'têm': 2,\n",
       "             'flores,': 1,\n",
       "             'nossos': 1,\n",
       "             'bosques': 1,\n",
       "             'vida,': 1,\n",
       "             'nossa': 1,\n",
       "             'vida': 1,\n",
       "             'amores.': 1,\n",
       "             'em': 2,\n",
       "             'cismar,': 1,\n",
       "             'sozinho': 1,\n",
       "             'à': 2,\n",
       "             'noite,': 1,\n",
       "             'prazer': 2,\n",
       "             'encontro': 4,\n",
       "             'eu': 5,\n",
       "             'lá;': 3,\n",
       "             'palmeiras,': 3,\n",
       "             'sabiá.': 3,\n",
       "             'primores,': 1,\n",
       "             'tais': 1,\n",
       "             'cá;': 2,\n",
       "             'cismar': 1,\n",
       "             '—': 1,\n",
       "             'sozinho,': 1,\n",
       "             'noite': 1,\n",
       "             'permita': 1,\n",
       "             'deus': 1,\n",
       "             'morra,': 1,\n",
       "             'sem': 3,\n",
       "             'volte': 1,\n",
       "             'para': 1,\n",
       "             'desfrute': 1,\n",
       "             'os': 1,\n",
       "             'primores': 1,\n",
       "             'por': 1,\n",
       "             \"qu'inda\": 1,\n",
       "             'aviste': 1})"
      ]
     },
     "execution_count": 86,
     "metadata": {},
     "output_type": "execute_result"
    }
   ],
   "source": [
    "aparicoes = defaultdict(int)\n",
    "\n",
    "for palavra in texto.split():\n",
    "    aparicoes[palavra] += 1\n",
    "\n",
    "aparicoes"
   ]
  },
  {
   "cell_type": "markdown",
   "metadata": {},
   "source": [
    "Testando o uso de diversas coleções"
   ]
  },
  {
   "cell_type": "code",
   "execution_count": 87,
   "metadata": {},
   "outputs": [],
   "source": [
    "contagem = Counter(texto.lower()).most_common()"
   ]
  },
  {
   "cell_type": "code",
   "execution_count": 97,
   "metadata": {},
   "outputs": [
    {
     "data": {
      "text/plain": [
       "114"
      ]
     },
     "execution_count": 97,
     "metadata": {},
     "output_type": "execute_result"
    }
   ],
   "source": [
    "contagem[0][1]"
   ]
  },
  {
   "cell_type": "code",
   "execution_count": 106,
   "metadata": {},
   "outputs": [
    {
     "ename": "TypeError",
     "evalue": "sum() takes at least 1 positional argument (0 given)",
     "output_type": "error",
     "traceback": [
      "\u001b[0;31m---------------------------------------------------------------------------\u001b[0m",
      "\u001b[0;31mTypeError\u001b[0m                                 Traceback (most recent call last)",
      "Cell \u001b[0;32mIn[106], line 1\u001b[0m\n\u001b[0;32m----> 1\u001b[0m total_de_caractere \u001b[39m=\u001b[39m \u001b[39msum\u001b[39;49m()\n\u001b[1;32m      3\u001b[0m \u001b[39mfor\u001b[39;00m caractere, proporcao \u001b[39min\u001b[39;00m contagem: \u001b[39mprint\u001b[39m(\u001b[39m\"\u001b[39m\u001b[39m{}\u001b[39;00m\u001b[39m => \u001b[39m\u001b[39m{}\u001b[39;00m\u001b[39m%\u001b[39m\u001b[39m \u001b[39m\u001b[39m\"\u001b[39m\u001b[39m.\u001b[39mformat(caractere,proporcao))\n",
      "\u001b[0;31mTypeError\u001b[0m: sum() takes at least 1 positional argument (0 given)"
     ]
    }
   ],
   "source": [
    "total_de_caractere = sum()\n",
    "\n",
    "for caractere, proporcao in contagem: print(\"{} => {}% \".format(caractere,proporcao))"
   ]
  },
  {
   "cell_type": "code",
   "execution_count": 101,
   "metadata": {},
   "outputs": [
    {
     "ename": "IndexError",
     "evalue": "list index out of range",
     "output_type": "error",
     "traceback": [
      "\u001b[0;31m---------------------------------------------------------------------------\u001b[0m",
      "\u001b[0;31mIndexError\u001b[0m                                Traceback (most recent call last)",
      "Cell \u001b[0;32mIn[101], line 1\u001b[0m\n\u001b[0;32m----> 1\u001b[0m total_de_caractere \u001b[39m=\u001b[39m \u001b[39msum\u001b[39m(contagem[_][:])\n\u001b[1;32m      2\u001b[0m total_de_caractere\n",
      "\u001b[0;31mIndexError\u001b[0m: list index out of range"
     ]
    }
   ],
   "source": []
  },
  {
   "cell_type": "code",
   "execution_count": 109,
   "metadata": {},
   "outputs": [
    {
     "ename": "TypeError",
     "evalue": "sum() takes at least 1 positional argument (0 given)",
     "output_type": "error",
     "traceback": [
      "\u001b[0;31m---------------------------------------------------------------------------\u001b[0m",
      "\u001b[0;31mTypeError\u001b[0m                                 Traceback (most recent call last)",
      "Cell \u001b[0;32mIn[109], line 1\u001b[0m\n\u001b[0;32m----> 1\u001b[0m total_de_caractere \u001b[39m=\u001b[39m \u001b[39msum\u001b[39;49m()\n\u001b[1;32m      3\u001b[0m \u001b[39mfor\u001b[39;00m caractere, proporcao \u001b[39min\u001b[39;00m contagem: \u001b[39mprint\u001b[39m(\u001b[39m\"\u001b[39m\u001b[39m{}\u001b[39;00m\u001b[39m => \u001b[39m\u001b[39m{}\u001b[39;00m\u001b[39m \u001b[39m\u001b[39m\"\u001b[39m\u001b[39m.\u001b[39mformat(caractere,proporcao))\n",
      "\u001b[0;31mTypeError\u001b[0m: sum() takes at least 1 positional argument (0 given)"
     ]
    }
   ],
   "source": [
    "total_de_caractere = sum()\n",
    "\n",
    "for caractere, proporcao in contagem: print(\"{} => {} \".format(caractere,proporcao))"
   ]
  },
  {
   "cell_type": "code",
   "execution_count": 108,
   "metadata": {},
   "outputs": [
    {
     "name": "stdout",
     "output_type": "stream",
     "text": [
      "  => 17.87%\n",
      "a => 9.09%\n",
      "e => 9.09%\n",
      "s => 7.52%\n",
      "o => 7.05%\n",
      "r => 5.96%\n",
      "m => 5.64%\n",
      "i => 5.49%\n",
      "n => 5.17%\n",
      "t => 4.23%\n"
     ]
    }
   ],
   "source": [
    "def analisa_frequencia_de_letras(texto):\n",
    "  aparicoes = Counter(texto.lower())\n",
    "  total_de_caracteres = sum(aparicoes.values())\n",
    "\n",
    "  proporcoes = [(letra, frequencia / total_de_caracteres) for letra, frequencia in aparicoes.items()]\n",
    "  proporcoes = Counter(dict(proporcoes))\n",
    "  mais_comuns = proporcoes.most_common(10)\n",
    "  for caractere, proporcao in mais_comuns:\n",
    "    print(\"{} => {:.2f}%\".format(caractere, proporcao * 100))\n",
    "    \n",
    "analisa_frequencia_de_letras(texto)"
   ]
  },
  {
   "cell_type": "code",
   "execution_count": null,
   "metadata": {},
   "outputs": [],
   "source": []
  }
 ],
 "metadata": {
  "kernelspec": {
   "display_name": "Python 3",
   "language": "python",
   "name": "python3"
  },
  "language_info": {
   "codemirror_mode": {
    "name": "ipython",
    "version": 3
   },
   "file_extension": ".py",
   "mimetype": "text/x-python",
   "name": "python",
   "nbconvert_exporter": "python",
   "pygments_lexer": "ipython3",
   "version": "3.8.10"
  },
  "orig_nbformat": 4
 },
 "nbformat": 4,
 "nbformat_minor": 2
}
